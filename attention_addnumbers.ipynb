{
  "nbformat": 4,
  "nbformat_minor": 0,
  "metadata": {
    "colab": {
      "name": "attention_addnumbers.ipynb",
      "provenance": []
    },
    "kernelspec": {
      "name": "python3",
      "display_name": "Python 3"
    },
    "accelerator": "TPU"
  },
  "cells": [
    {
      "cell_type": "code",
      "metadata": {
        "id": "8RfAqWzpWLPD"
      },
      "source": [
        "#Here I play with the sample from attention documentaion # https://github.com/philipperemy/keras-attention-mechanism\n",
        "#I visualized the last step and just add more debugging to sample\n",
        "\n",
        "\n",
        "import os\n",
        "import sys\n",
        "\n",
        "import matplotlib.pyplot as plt\n",
        "import numpy\n",
        "import numpy as np\n",
        "from keract import get_activations\n",
        "from tensorflow.keras import Sequential\n",
        "from tensorflow.keras.callbacks import Callback\n",
        "from tensorflow.keras.layers import Dense, Dropout, LSTM\n",
        "\n",
        "from attention import Attention  \n",
        "\n",
        "\n"
      ],
      "execution_count": 34,
      "outputs": []
    },
    {
      "cell_type": "code",
      "metadata": {
        "id": "y18dXxXQLggR"
      },
      "source": [
        "#!pip install keract\n",
        "#!pip install attention"
      ],
      "execution_count": 35,
      "outputs": []
    },
    {
      "cell_type": "code",
      "metadata": {
        "id": "U_51VYDiCU3y"
      },
      "source": [
        "\n",
        "def add_numbers_before_delimiter(n: int, seq_length: int, delimiter: float = 0.0,\n",
        "                                         index_1: int = None) -> (np.array, np.array):\n",
        "    \"\"\"\n",
        "    Task: Add all the numbers that come before the delimiter.\n",
        "    x = [1, 2, 3, 0, 4, 5, 6, 7, 8, 9]. Result is y =  6.\n",
        "    @param n: number of samples in (x, y).\n",
        "    @param seq_length: length of the sequence of x.\n",
        "    @param delimiter: value of the delimiter. Default is 0.0\n",
        "    @param index_1: index of the number that comes after the first 0.\n",
        "    @return: returns two numpy.array x and y of shape (n, seq_length, 1) and (n, 1).\n",
        "    \"\"\"\n",
        "    x = np.random.uniform(0, 1, (n, seq_length))\n",
        "    y = np.zeros(shape=(n, 1))\n",
        "    for i in range(len(x)):\n",
        "        if index_1 is None:\n",
        "            a = np.random.choice(range(1, len(x[i])), size=1, replace=False)\n",
        "        else:\n",
        "            a = index_1\n",
        "        #print(type(a))    \n",
        "        aint = a\n",
        "        if isinstance(a,numpy.ndarray):          \n",
        "          aint = a[0]\n",
        "        y[i] =  np.sum(x[i, 0:aint])\n",
        "        x[i, aint] = delimiter\n",
        "\n",
        "    x = np.expand_dims(x, axis=-1)\n",
        "    return x, y"
      ],
      "execution_count": 3,
      "outputs": []
    },
    {
      "cell_type": "code",
      "metadata": {
        "id": "v1kHkBQSpkQm"
      },
      "source": [
        ""
      ],
      "execution_count": 6,
      "outputs": []
    },
    {
      "cell_type": "code",
      "metadata": {
        "id": "XMzajet5pyoF"
      },
      "source": [
        ""
      ],
      "execution_count": 6,
      "outputs": []
    },
    {
      "cell_type": "code",
      "metadata": {
        "id": "DPBt16CjprlH"
      },
      "source": [
        "\n"
      ],
      "execution_count": 8,
      "outputs": []
    },
    {
      "cell_type": "code",
      "metadata": {
        "id": "ZBuyYp2kpUZU"
      },
      "source": [
        ""
      ],
      "execution_count": 7,
      "outputs": []
    },
    {
      "cell_type": "code",
      "metadata": {
        "id": "-3Z2SefTq-RH",
        "outputId": "52347fa0-4b72-46a1-d7fd-ec58812c6d36",
        "colab": {
          "base_uri": "https://localhost:8080/",
          "height": 432
        }
      },
      "source": [
        "numpy.random.seed(7)\n",
        "\n",
        "# data. definition of the problem.\n",
        "seq_length = 20\n",
        "x_train, y_train = add_numbers_before_delimiter(20_000, seq_length)\n",
        "x_val, y_val = add_numbers_before_delimiter(4_000, seq_length)\n",
        "\n",
        "# just arbitrary values. it's for visual purposes. easy to see than random values.\n",
        "test_index_1 = 4\n",
        "x_test, _ = add_numbers_before_delimiter(10, seq_length, 0, test_index_1)\n",
        "# x_test_mask is just a mask that, if applied to x_test, would still contain the information to solve the problem.\n",
        "# we expect the attention map to look like this mask.\n",
        "x_test_mask = np.zeros_like(x_test[..., 0])\n",
        "plt.imshow(x_test_mask, cmap='hot')\n",
        "plt.show()\n",
        "x_test_mask[:, test_index_1:test_index_1 + 1] = 1\n",
        "plt.imshow(x_test_mask, cmap='hot')"
      ],
      "execution_count": 63,
      "outputs": [
        {
          "output_type": "display_data",
          "data": {
            "image/png": "[encoded data removed]",
            "text/plain": [
              "<Figure size 432x288 with 1 Axes>"
            ]
          },
          "metadata": {
            "tags": [],
            "needs_background": "light"
          }
        },
        {
          "output_type": "execute_result",
          "data": {
            "text/plain": [
              "<matplotlib.image.AxesImage at 0x7fde8c826048>"
            ]
          },
          "metadata": {
            "tags": []
          },
          "execution_count": 63
        },
        {
          "output_type": "display_data",
          "data": {
            "image/png": "[encoded data removed]",
            "text/plain": [
              "<Figure size 432x288 with 1 Axes>"
            ]
          },
          "metadata": {
            "tags": [],
            "needs_background": "light"
          }
        }
      ]
    },
    {
      "cell_type": "code",
      "metadata": {
        "id": "RHZlgiEGrIM2",
        "outputId": "72e93b3e-4634-4493-d579-5c085c8dba10",
        "colab": {
          "base_uri": "https://localhost:8080/",
          "height": 432
        }
      },
      "source": [
        "#i want to create  a second dataset \n",
        "test_index_1 = 8\n",
        "x_test6, _ = add_numbers_before_delimiter(10, seq_length, 0, test_index_1)\n",
        "\n",
        "x_test_mask6 = np.zeros_like(x_test6[..., 0])\n",
        "plt.imshow(x_test_mask6, cmap='hot')\n",
        "plt.show()\n",
        "x_test_mask6[:, test_index_1:test_index_1 + 1] = 1\n",
        "plt.imshow(x_test_mask6, cmap='hot')"
      ],
      "execution_count": 66,
      "outputs": [
        {
          "output_type": "display_data",
          "data": {
            "image/png": "[encoded data removed]",
            "text/plain": [
              "<Figure size 432x288 with 1 Axes>"
            ]
          },
          "metadata": {
            "tags": [],
            "needs_background": "light"
          }
        },
        {
          "output_type": "execute_result",
          "data": {
            "text/plain": [
              "<matplotlib.image.AxesImage at 0x7fde8a68d128>"
            ]
          },
          "metadata": {
            "tags": []
          },
          "execution_count": 66
        },
        {
          "output_type": "display_data",
          "data": {
            "image/png": "[encoded data removed]",
            "text/plain": [
              "<Figure size 432x288 with 1 Axes>"
            ]
          },
          "metadata": {
            "tags": [],
            "needs_background": "light"
          }
        }
      ]
    },
    {
      "cell_type": "code",
      "metadata": {
        "id": "jWPy_iRzNuTf",
        "outputId": "364621ab-e0df-43f2-b580-67206aad5fc7",
        "colab": {
          "base_uri": "https://localhost:8080/"
        }
      },
      "source": [
        "print(x_test6.shape)\n",
        "print(x_test.shape)\n",
        "#combine the former map with current\n",
        "x_test_combined = np.concatenate([x_test,x_test6])\n",
        "x_test_mask_combined = np.concatenate([x_test_mask,x_test_mask6])\n",
        "\n",
        "print(x_test_combined.shape)\n",
        "print(x_test_mask_combined.shape)"
      ],
      "execution_count": 68,
      "outputs": [
        {
          "output_type": "stream",
          "text": [
            "(10, 20, 1)\n",
            "(10, 20, 1)\n",
            "(20, 20, 1)\n",
            "(20, 20)\n"
          ],
          "name": "stdout"
        }
      ]
    },
    {
      "cell_type": "code",
      "metadata": {
        "id": "KfCBBXplrFJL"
      },
      "source": [
        ""
      ],
      "execution_count": 68,
      "outputs": []
    },
    {
      "cell_type": "code",
      "metadata": {
        "colab": {
          "base_uri": "https://localhost:8080/"
        },
        "id": "CeVu36lGWMKF",
        "outputId": "cb0e8d1a-48f4-4e06-a1f3-591c5d811b2a"
      },
      "source": [
        "#below is mostly from documentation , I changed the attention saving part\n",
        "\n",
        "model = Sequential([\n",
        "    LSTM(100, input_shape=(seq_length, 1), return_sequences=True),\n",
        "    Attention(name='attention_weight'),\n",
        "    Dropout(0.2),\n",
        "    Dense(1, activation='linear')\n",
        "])\n",
        "\n",
        "model.compile(loss='mse', optimizer='adam')\n",
        "print(model.summary())\n",
        "\n",
        "output_dir = 'task_add_two_numbers'\n",
        "if not os.path.exists(output_dir):\n",
        "    os.makedirs(output_dir)\n",
        "\n",
        "max_epoch =  100\n",
        "\n",
        "attentions_saved = []\n",
        "attentions_maps_saved = []\n",
        "attentions_combined_saved = []\n",
        "class VisualiseAttentionMap(Callback):\n",
        "  def on_epoch_end(self, epoch, logs=None):\n",
        "    #try and save the test attentions\n",
        "    \n",
        "    attention_map = get_activations(model, x_test, layer_names='attention_weight')['attention_weight']\n",
        "    attention_map_combined = get_activations(model, x_test_combined, layer_names='attention_weight')['attention_weight']\n",
        "\n",
        "    attentions_saved.append(np.concatenate([attention_map, x_test_mask]))\n",
        "    attentions_combined_saved.append(np.concatenate([attention_map_combined, x_test_mask_combined]))\n",
        "    attentions_maps_saved.append( attention_map)\n",
        "\n",
        "model.fit(x_train, y_train, validation_data=(x_val, y_val), epochs=max_epoch,\n",
        "              batch_size=64, callbacks=[VisualiseAttentionMap()])"
      ],
      "execution_count": 69,
      "outputs": [
        {
          "output_type": "stream",
          "text": [
            "Model: \"sequential_3\"\n",
            "_________________________________________________________________\n",
            "Layer (type)                 Output Shape              Param #   \n",
            "=================================================================\n",
            "lstm_3 (LSTM)                (None, 20, 100)           40800     \n",
            "_________________________________________________________________\n",
            "attention_score_vec (Dense)  (None, 20, 100)           10000     \n",
            "_________________________________________________________________\n",
            "last_hidden_state (Lambda)   (None, 100)               0         \n",
            "_________________________________________________________________\n",
            "attention_score (Dot)        (None, 20)                0         \n",
            "_________________________________________________________________\n",
            "attention_weight (Activation (None, 20)                0         \n",
            "_________________________________________________________________\n",
            "context_vector (Dot)         (None, 100)               0         \n",
            "_________________________________________________________________\n",
            "attention_output (Concatenat (None, 200)               0         \n",
            "_________________________________________________________________\n",
            "attention_vector (Dense)     (None, 128)               25600     \n",
            "_________________________________________________________________\n",
            "dropout_3 (Dropout)          (None, 128)               0         \n",
            "_________________________________________________________________\n",
            "dense_3 (Dense)              (None, 1)                 129       \n",
            "=================================================================\n",
            "Total params: 76,529\n",
            "Trainable params: 76,529\n",
            "Non-trainable params: 0\n",
            "_________________________________________________________________\n",
            "None\n",
            "Epoch 1/100\n",
            "313/313 [==============================] - 9s 28ms/step - loss: 7.7927 - val_loss: 6.2597\n",
            "Epoch 2/100\n",
            "313/313 [==============================] - 8s 26ms/step - loss: 6.2792 - val_loss: 6.0528\n",
            "Epoch 3/100\n",
            "313/313 [==============================] - 8s 27ms/step - loss: 6.2037 - val_loss: 6.0668\n",
            "Epoch 4/100\n",
            "313/313 [==============================] - 8s 27ms/step - loss: 4.4825 - val_loss: 2.9919\n",
            "Epoch 5/100\n",
            "313/313 [==============================] - 8s 26ms/step - loss: 2.3924 - val_loss: 1.8760\n",
            "Epoch 6/100\n",
            "313/313 [==============================] - 8s 26ms/step - loss: 1.7005 - val_loss: 4.0873\n",
            "Epoch 7/100\n",
            "313/313 [==============================] - 8s 27ms/step - loss: 1.3925 - val_loss: 1.2214\n",
            "Epoch 8/100\n",
            "313/313 [==============================] - 8s 27ms/step - loss: 1.2779 - val_loss: 1.1244\n",
            "Epoch 9/100\n",
            "313/313 [==============================] - 8s 26ms/step - loss: 1.0577 - val_loss: 0.7875\n",
            "Epoch 10/100\n",
            "313/313 [==============================] - 9s 27ms/step - loss: 0.9973 - val_loss: 1.5140\n",
            "Epoch 11/100\n",
            "313/313 [==============================] - 8s 27ms/step - loss: 0.9136 - val_loss: 0.8443\n",
            "Epoch 12/100\n",
            "313/313 [==============================] - 8s 26ms/step - loss: 0.9220 - val_loss: 0.7225\n",
            "Epoch 13/100\n",
            "313/313 [==============================] - 8s 27ms/step - loss: 0.9083 - val_loss: 0.7675\n",
            "Epoch 14/100\n",
            "313/313 [==============================] - 8s 27ms/step - loss: 0.8399 - val_loss: 0.6567\n",
            "Epoch 15/100\n",
            "313/313 [==============================] - 8s 27ms/step - loss: 0.8428 - val_loss: 0.6188\n",
            "Epoch 16/100\n",
            "313/313 [==============================] - 8s 27ms/step - loss: 0.7772 - val_loss: 0.6681\n",
            "Epoch 17/100\n",
            "313/313 [==============================] - 8s 27ms/step - loss: 0.7767 - val_loss: 0.5889\n",
            "Epoch 18/100\n",
            "313/313 [==============================] - 8s 27ms/step - loss: 0.7024 - val_loss: 0.9576\n",
            "Epoch 19/100\n",
            "313/313 [==============================] - 9s 27ms/step - loss: 0.7262 - val_loss: 0.7703\n",
            "Epoch 20/100\n",
            "313/313 [==============================] - 8s 27ms/step - loss: 0.7247 - val_loss: 0.5074\n",
            "Epoch 21/100\n",
            "313/313 [==============================] - 8s 27ms/step - loss: 0.6873 - val_loss: 0.5809\n",
            "Epoch 22/100\n",
            "313/313 [==============================] - 9s 28ms/step - loss: 0.6594 - val_loss: 0.6387\n",
            "Epoch 23/100\n",
            "313/313 [==============================] - 8s 27ms/step - loss: 0.6315 - val_loss: 0.6960\n",
            "Epoch 24/100\n",
            "313/313 [==============================] - 9s 28ms/step - loss: 0.6010 - val_loss: 0.4320\n",
            "Epoch 25/100\n",
            "313/313 [==============================] - 8s 27ms/step - loss: 0.6366 - val_loss: 0.6836\n",
            "Epoch 26/100\n",
            "313/313 [==============================] - 8s 27ms/step - loss: 0.6081 - val_loss: 0.4732\n",
            "Epoch 27/100\n",
            "313/313 [==============================] - 8s 27ms/step - loss: 0.5564 - val_loss: 0.3925\n",
            "Epoch 28/100\n",
            "313/313 [==============================] - 8s 27ms/step - loss: 0.5513 - val_loss: 0.6563\n",
            "Epoch 29/100\n",
            "313/313 [==============================] - 8s 27ms/step - loss: 0.5196 - val_loss: 0.7044\n",
            "Epoch 30/100\n",
            "313/313 [==============================] - 9s 28ms/step - loss: 0.4988 - val_loss: 0.4601\n",
            "Epoch 31/100\n",
            "313/313 [==============================] - 8s 27ms/step - loss: 0.5484 - val_loss: 0.4995\n",
            "Epoch 32/100\n",
            "313/313 [==============================] - 8s 27ms/step - loss: 0.4937 - val_loss: 0.4504\n",
            "Epoch 33/100\n",
            "313/313 [==============================] - 8s 27ms/step - loss: 0.4653 - val_loss: 0.5298\n",
            "Epoch 34/100\n",
            "313/313 [==============================] - 8s 26ms/step - loss: 0.5352 - val_loss: 0.4450\n",
            "Epoch 35/100\n",
            "313/313 [==============================] - 8s 26ms/step - loss: 0.4421 - val_loss: 0.4201\n",
            "Epoch 36/100\n",
            "313/313 [==============================] - 8s 27ms/step - loss: 0.4854 - val_loss: 0.4562\n",
            "Epoch 37/100\n",
            "313/313 [==============================] - 8s 27ms/step - loss: 0.5005 - val_loss: 0.4225\n",
            "Epoch 38/100\n",
            "313/313 [==============================] - 8s 27ms/step - loss: 0.4364 - val_loss: 0.6097\n",
            "Epoch 39/100\n",
            "313/313 [==============================] - 8s 27ms/step - loss: 0.4198 - val_loss: 0.5442\n",
            "Epoch 40/100\n",
            "313/313 [==============================] - 8s 27ms/step - loss: 0.4348 - val_loss: 0.2687\n",
            "Epoch 41/100\n",
            "313/313 [==============================] - 8s 26ms/step - loss: 0.4350 - val_loss: 0.3602\n",
            "Epoch 42/100\n",
            "313/313 [==============================] - 8s 27ms/step - loss: 0.4396 - val_loss: 0.5048\n",
            "Epoch 43/100\n",
            "313/313 [==============================] - 8s 27ms/step - loss: 0.4498 - val_loss: 0.4584\n",
            "Epoch 44/100\n",
            "313/313 [==============================] - 9s 27ms/step - loss: 0.4216 - val_loss: 0.3154\n",
            "Epoch 45/100\n",
            "313/313 [==============================] - 9s 27ms/step - loss: 0.3796 - val_loss: 0.3428\n",
            "Epoch 46/100\n",
            "313/313 [==============================] - 8s 27ms/step - loss: 0.3543 - val_loss: 0.3183\n",
            "Epoch 47/100\n",
            "313/313 [==============================] - 8s 27ms/step - loss: 0.4147 - val_loss: 0.3383\n",
            "Epoch 48/100\n",
            "313/313 [==============================] - 8s 26ms/step - loss: 0.3766 - val_loss: 0.6026\n",
            "Epoch 49/100\n",
            "313/313 [==============================] - 8s 27ms/step - loss: 0.3750 - val_loss: 0.5174\n",
            "Epoch 50/100\n",
            "313/313 [==============================] - 9s 27ms/step - loss: 0.3675 - val_loss: 0.3801\n",
            "Epoch 51/100\n",
            "313/313 [==============================] - 9s 27ms/step - loss: 0.3400 - val_loss: 0.6296\n",
            "Epoch 52/100\n",
            "313/313 [==============================] - 9s 27ms/step - loss: 0.3539 - val_loss: 0.3296\n",
            "Epoch 53/100\n",
            "313/313 [==============================] - 9s 28ms/step - loss: 0.3048 - val_loss: 0.2212\n",
            "Epoch 54/100\n",
            "313/313 [==============================] - 9s 28ms/step - loss: 0.3588 - val_loss: 0.2918\n",
            "Epoch 55/100\n",
            "313/313 [==============================] - 9s 27ms/step - loss: 0.3050 - val_loss: 0.4771\n",
            "Epoch 56/100\n",
            "313/313 [==============================] - 9s 28ms/step - loss: 0.2918 - val_loss: 0.2556\n",
            "Epoch 57/100\n",
            "313/313 [==============================] - 9s 27ms/step - loss: 0.2792 - val_loss: 0.2584\n",
            "Epoch 58/100\n",
            "313/313 [==============================] - 9s 28ms/step - loss: 0.3012 - val_loss: 0.2928\n",
            "Epoch 59/100\n",
            "313/313 [==============================] - 9s 27ms/step - loss: 0.3015 - val_loss: 0.2379\n",
            "Epoch 60/100\n",
            "313/313 [==============================] - 9s 27ms/step - loss: 0.2617 - val_loss: 0.3529\n",
            "Epoch 61/100\n",
            "313/313 [==============================] - 9s 27ms/step - loss: 0.2941 - val_loss: 0.2151\n",
            "Epoch 62/100\n",
            "313/313 [==============================] - 9s 28ms/step - loss: 0.2762 - val_loss: 0.2704\n",
            "Epoch 63/100\n",
            "313/313 [==============================] - 9s 28ms/step - loss: 0.2840 - val_loss: 0.2420\n",
            "Epoch 64/100\n",
            "313/313 [==============================] - 9s 28ms/step - loss: 0.2590 - val_loss: 0.2922\n",
            "Epoch 65/100\n",
            "313/313 [==============================] - 9s 27ms/step - loss: 0.2414 - val_loss: 0.3229\n",
            "Epoch 66/100\n",
            "313/313 [==============================] - 9s 29ms/step - loss: 0.2668 - val_loss: 0.2408\n",
            "Epoch 67/100\n",
            "313/313 [==============================] - 9s 29ms/step - loss: 0.2376 - val_loss: 0.3604\n",
            "Epoch 68/100\n",
            "313/313 [==============================] - 9s 28ms/step - loss: 0.2338 - val_loss: 0.1899\n",
            "Epoch 69/100\n",
            "313/313 [==============================] - 9s 27ms/step - loss: 0.2548 - val_loss: 0.2528\n",
            "Epoch 70/100\n",
            "313/313 [==============================] - 9s 27ms/step - loss: 0.2405 - val_loss: 0.2004\n",
            "Epoch 71/100\n",
            "313/313 [==============================] - 9s 27ms/step - loss: 0.2470 - val_loss: 0.4631\n",
            "Epoch 72/100\n",
            "313/313 [==============================] - 8s 27ms/step - loss: 0.2371 - val_loss: 0.1782\n",
            "Epoch 73/100\n",
            "313/313 [==============================] - 9s 27ms/step - loss: 0.2345 - val_loss: 0.1639\n",
            "Epoch 74/100\n",
            "313/313 [==============================] - 9s 27ms/step - loss: 0.2131 - val_loss: 0.2002\n",
            "Epoch 75/100\n",
            "313/313 [==============================] - 9s 27ms/step - loss: 0.2539 - val_loss: 0.2394\n",
            "Epoch 76/100\n",
            "313/313 [==============================] - 9s 27ms/step - loss: 0.2147 - val_loss: 0.2691\n",
            "Epoch 77/100\n",
            "313/313 [==============================] - 8s 27ms/step - loss: 0.2020 - val_loss: 0.2407\n",
            "Epoch 78/100\n",
            "313/313 [==============================] - 8s 27ms/step - loss: 0.2020 - val_loss: 0.2543\n",
            "Epoch 79/100\n",
            "313/313 [==============================] - 9s 27ms/step - loss: 0.2118 - val_loss: 0.2191\n",
            "Epoch 80/100\n",
            "313/313 [==============================] - 9s 28ms/step - loss: 0.2141 - val_loss: 0.1964\n",
            "Epoch 81/100\n",
            "313/313 [==============================] - 8s 27ms/step - loss: 0.2165 - val_loss: 0.1878\n",
            "Epoch 82/100\n",
            "313/313 [==============================] - 9s 27ms/step - loss: 0.2079 - val_loss: 0.2385\n",
            "Epoch 83/100\n",
            "313/313 [==============================] - 9s 28ms/step - loss: 0.2002 - val_loss: 0.2404\n",
            "Epoch 84/100\n",
            "313/313 [==============================] - 9s 27ms/step - loss: 0.1857 - val_loss: 0.2093\n",
            "Epoch 85/100\n",
            "313/313 [==============================] - 9s 27ms/step - loss: 0.1666 - val_loss: 0.1798\n",
            "Epoch 86/100\n",
            "313/313 [==============================] - 9s 27ms/step - loss: 0.2071 - val_loss: 0.2272\n",
            "Epoch 87/100\n",
            "313/313 [==============================] - 9s 27ms/step - loss: 0.1807 - val_loss: 0.2482\n",
            "Epoch 88/100\n",
            "313/313 [==============================] - 8s 27ms/step - loss: 0.1892 - val_loss: 0.1943\n",
            "Epoch 89/100\n",
            "313/313 [==============================] - 9s 28ms/step - loss: 0.1763 - val_loss: 0.1411\n",
            "Epoch 90/100\n",
            "313/313 [==============================] - 12s 40ms/step - loss: 0.1864 - val_loss: 0.1458\n",
            "Epoch 91/100\n",
            "313/313 [==============================] - 8s 27ms/step - loss: 0.1494 - val_loss: 0.1225\n",
            "Epoch 92/100\n",
            "313/313 [==============================] - 9s 28ms/step - loss: 0.1491 - val_loss: 0.1532\n",
            "Epoch 93/100\n",
            "313/313 [==============================] - 9s 28ms/step - loss: 0.1541 - val_loss: 0.2845\n",
            "Epoch 94/100\n",
            "313/313 [==============================] - 9s 28ms/step - loss: 0.1625 - val_loss: 0.2734\n",
            "Epoch 95/100\n",
            "313/313 [==============================] - 9s 28ms/step - loss: 0.1817 - val_loss: 0.1657\n",
            "Epoch 96/100\n",
            "313/313 [==============================] - 9s 29ms/step - loss: 0.1450 - val_loss: 0.2310\n",
            "Epoch 97/100\n",
            "313/313 [==============================] - 9s 28ms/step - loss: 0.1652 - val_loss: 0.1874\n",
            "Epoch 98/100\n",
            "313/313 [==============================] - 9s 28ms/step - loss: 0.1479 - val_loss: 0.2766\n",
            "Epoch 99/100\n",
            "313/313 [==============================] - 9s 28ms/step - loss: 0.1613 - val_loss: 0.1325\n",
            "Epoch 100/100\n",
            "313/313 [==============================] - 9s 28ms/step - loss: 0.1456 - val_loss: 0.1553\n"
          ],
          "name": "stdout"
        },
        {
          "output_type": "execute_result",
          "data": {
            "text/plain": [
              "<tensorflow.python.keras.callbacks.History at 0x7fde8a507828>"
            ]
          },
          "metadata": {
            "tags": []
          },
          "execution_count": 69
        }
      ]
    },
    {
      "cell_type": "code",
      "metadata": {
        "id": "PdNRi4_5sgS8"
      },
      "source": [
        ""
      ],
      "execution_count": 78,
      "outputs": []
    },
    {
      "cell_type": "code",
      "metadata": {
        "colab": {
          "base_uri": "https://localhost:8080/",
          "height": 284
        },
        "id": "4i7CdPHDWSED",
        "outputId": "adca493f-68c6-4627-bb46-54053a9b8107"
      },
      "source": [
        "#here model only tries for index 4\n",
        "plt.imshow(attentions_saved[0], cmap='hot')"
      ],
      "execution_count": 71,
      "outputs": [
        {
          "output_type": "execute_result",
          "data": {
            "text/plain": [
              "<matplotlib.image.AxesImage at 0x7fde8c8e33c8>"
            ]
          },
          "metadata": {
            "tags": []
          },
          "execution_count": 71
        },
        {
          "output_type": "display_data",
          "data": {
            "image/png": "[encoded data removed]",
            "text/plain": [
              "<Figure size 432x288 with 1 Axes>"
            ]
          },
          "metadata": {
            "tags": [],
            "needs_background": "light"
          }
        }
      ]
    },
    {
      "cell_type": "code",
      "metadata": {
        "colab": {
          "base_uri": "https://localhost:8080/",
          "height": 286
        },
        "id": "5HV8Bdq9WkjZ",
        "outputId": "106d56b8-e332-4ca4-eb9f-92a9998f24a9"
      },
      "source": [
        "#here model  tries both index 4 and 8\n",
        "plt.imshow(attentions_combined_saved[0], cmap='hot')"
      ],
      "execution_count": 78,
      "outputs": [
        {
          "output_type": "execute_result",
          "data": {
            "text/plain": [
              "<matplotlib.image.AxesImage at 0x7fde8a80d470>"
            ]
          },
          "metadata": {
            "tags": []
          },
          "execution_count": 78
        },
        {
          "output_type": "display_data",
          "data": {
            "image/png": "[encoded data removed]",
            "text/plain": [
              "<Figure size 432x288 with 1 Axes>"
            ]
          },
          "metadata": {
            "tags": [],
            "needs_background": "light"
          }
        }
      ]
    },
    {
      "cell_type": "code",
      "metadata": {
        "colab": {
          "base_uri": "https://localhost:8080/",
          "height": 858
        },
        "id": "XCtmybooX0SF",
        "outputId": "02bcf0b6-3a87-4355-a406-b239570a05ca"
      },
      "source": [
        "fig, axs = plt.subplots(2,5 ,figsize=(15,15))\n",
        "fig.suptitle('over time')\n",
        "\n",
        "for i in range(10):\n",
        "  col = i % 5\n",
        "  row = i // 5\n",
        "  axs[row][col].set_title(str(i+1))\n",
        "  axs[row][col].imshow(attentions_saved[i * 10], cmap='hot')\n"
      ],
      "execution_count": 77,
      "outputs": [
        {
          "output_type": "display_data",
          "data": {
            "image/png": "[encoded data removed]",
            "text/plain": [
              "<Figure size 1080x1080 with 10 Axes>"
            ]
          },
          "metadata": {
            "tags": [],
            "needs_background": "light"
          }
        }
      ]
    },
    {
      "cell_type": "code",
      "metadata": {
        "colab": {
          "base_uri": "https://localhost:8080/",
          "height": 930
        },
        "id": "ijhfLs_mYgJg",
        "outputId": "f18e03e2-d353-450f-be30-801525ed94ec"
      },
      "source": [
        "fig, axs = plt.subplots(2,5 ,figsize=(15,15))\n",
        "fig.suptitle('overt time')\n",
        "\n",
        "for i in range(10):\n",
        "  col = i % 5\n",
        "  row = i // 5\n",
        "  axs[row][col].set_title(str(i+1))\n",
        "  axs[row][col].imshow(attentions_combined_saved[i * 10], cmap='hot')\n"
      ],
      "execution_count": 74,
      "outputs": [
        {
          "output_type": "display_data",
          "data": {
            "image/png": "[encoded data removed]",
            "text/plain": [
              "<Figure size 1080x1080 with 10 Axes>"
            ]
          },
          "metadata": {
            "tags": [],
            "needs_background": "light"
          }
        }
      ]
    },
    {
      "cell_type": "code",
      "metadata": {
        "id": "y3R-uvGLS4gD"
      },
      "source": [
        "#we dont have to run the model for getting activation\n",
        "attention_map = get_activations(model, x_test, layer_names='attention_weight')['attention_weight']"
      ],
      "execution_count": 79,
      "outputs": []
    },
    {
      "cell_type": "code",
      "metadata": {
        "id": "z31NJQy-YQyx",
        "outputId": "31327222-9a93-4628-a170-3bb88345c358",
        "colab": {
          "base_uri": "https://localhost:8080/",
          "height": 234
        }
      },
      "source": [
        "plt.imshow(attention_map, cmap='hot')"
      ],
      "execution_count": 82,
      "outputs": [
        {
          "output_type": "execute_result",
          "data": {
            "text/plain": [
              "<matplotlib.image.AxesImage at 0x7fde886aff60>"
            ]
          },
          "metadata": {
            "tags": []
          },
          "execution_count": 82
        },
        {
          "output_type": "display_data",
          "data": {
            "image/png": "[encoded data removed]",
            "text/plain": [
              "<Figure size 432x288 with 1 Axes>"
            ]
          },
          "metadata": {
            "tags": [],
            "needs_background": "light"
          }
        }
      ]
    },
    {
      "cell_type": "code",
      "metadata": {
        "id": "1PSNIMmOYR5l",
        "outputId": "91fff101-fd70-4307-ee8a-3286f5527142",
        "colab": {
          "base_uri": "https://localhost:8080/"
        }
      },
      "source": [
        "attention_map"
      ],
      "execution_count": 81,
      "outputs": [
        {
          "output_type": "execute_result",
          "data": {
            "text/plain": [
              "array([[4.1294223e-17, 6.5780251e-04, 7.7747651e-36, 0.0000000e+00,\n",
              "        9.9934214e-01, 4.3816782e-35, 1.5388568e-38, 0.0000000e+00,\n",
              "        0.0000000e+00, 0.0000000e+00, 0.0000000e+00, 0.0000000e+00,\n",
              "        0.0000000e+00, 0.0000000e+00, 0.0000000e+00, 7.6926095e-27,\n",
              "        8.6537179e-35, 0.0000000e+00, 4.9187329e-36, 5.1420835e-35],\n",
              "       [6.4656968e-21, 0.0000000e+00, 7.6354236e-34, 1.3868036e-22,\n",
              "        9.2205316e-01, 1.2193782e-34, 4.6983264e-19, 5.1269241e-34,\n",
              "        0.0000000e+00, 2.7587830e-18, 0.0000000e+00, 0.0000000e+00,\n",
              "        1.4485539e-29, 1.7219751e-34, 2.4040100e-37, 0.0000000e+00,\n",
              "        1.2336606e-37, 9.9929013e-05, 1.2037189e-36, 7.7846892e-02],\n",
              "       [3.5761294e-17, 1.5293287e-23, 3.0160275e-30, 5.7193048e-02,\n",
              "        9.4280696e-01, 1.4547188e-34, 4.3348061e-29, 4.7931022e-31,\n",
              "        3.8941413e-35, 1.7424937e-25, 1.7932747e-37, 1.3523163e-33,\n",
              "        8.5028540e-37, 1.0837970e-34, 1.6436494e-23, 0.0000000e+00,\n",
              "        2.7352612e-38, 0.0000000e+00, 0.0000000e+00, 5.2508533e-32],\n",
              "       [1.5232444e-20, 0.0000000e+00, 0.0000000e+00, 6.5166397e-08,\n",
              "        9.9999988e-01, 0.0000000e+00, 0.0000000e+00, 0.0000000e+00,\n",
              "        0.0000000e+00, 4.7005608e-34, 5.6818465e-26, 0.0000000e+00,\n",
              "        1.6536222e-37, 3.2174899e-16, 7.7661240e-36, 0.0000000e+00,\n",
              "        4.6566157e-36, 7.8036248e-15, 5.8658467e-36, 1.8648246e-34],\n",
              "       [1.0034152e-06, 2.2211238e-33, 2.1540408e-36, 3.1939852e-30,\n",
              "        9.9999905e-01, 1.3581634e-36, 7.8771703e-36, 0.0000000e+00,\n",
              "        6.8946330e-15, 2.9148542e-22, 1.8717038e-38, 0.0000000e+00,\n",
              "        1.0228521e-20, 0.0000000e+00, 0.0000000e+00, 0.0000000e+00,\n",
              "        0.0000000e+00, 1.7509095e-35, 0.0000000e+00, 2.0054246e-33],\n",
              "       [5.2489229e-22, 4.2492043e-35, 0.0000000e+00, 7.3775322e-29,\n",
              "        9.9960202e-01, 5.8586057e-32, 0.0000000e+00, 3.9801272e-04,\n",
              "        4.4726335e-37, 2.4726485e-33, 0.0000000e+00, 2.2069595e-10,\n",
              "        2.1115230e-36, 0.0000000e+00, 0.0000000e+00, 0.0000000e+00,\n",
              "        1.5750686e-30, 0.0000000e+00, 0.0000000e+00, 3.8703900e-28],\n",
              "       [2.3132282e-19, 0.0000000e+00, 0.0000000e+00, 0.0000000e+00,\n",
              "        1.0000000e+00, 4.8257132e-32, 2.1368233e-36, 2.1645267e-30,\n",
              "        3.8822052e-38, 0.0000000e+00, 0.0000000e+00, 1.6365364e-08,\n",
              "        3.0755649e-32, 1.7708325e-37, 6.8956797e-26, 0.0000000e+00,\n",
              "        0.0000000e+00, 7.7371516e-27, 2.4460456e-33, 0.0000000e+00],\n",
              "       [7.4427292e-16, 1.4706852e-38, 0.0000000e+00, 0.0000000e+00,\n",
              "        9.9999774e-01, 1.2396561e-30, 2.0228892e-30, 2.2371632e-06,\n",
              "        8.6037485e-35, 3.4400859e-26, 0.0000000e+00, 0.0000000e+00,\n",
              "        0.0000000e+00, 7.1934100e-30, 5.7352748e-33, 0.0000000e+00,\n",
              "        0.0000000e+00, 1.2621805e-35, 4.3016137e-37, 2.3553980e-16],\n",
              "       [1.1748415e-22, 1.0116327e-24, 6.2991092e-23, 0.0000000e+00,\n",
              "        1.0000000e+00, 0.0000000e+00, 0.0000000e+00, 0.0000000e+00,\n",
              "        6.1100958e-11, 0.0000000e+00, 4.4605105e-13, 0.0000000e+00,\n",
              "        0.0000000e+00, 0.0000000e+00, 8.4569029e-38, 0.0000000e+00,\n",
              "        0.0000000e+00, 0.0000000e+00, 2.9439159e-34, 0.0000000e+00],\n",
              "       [1.7408323e-30, 0.0000000e+00, 0.0000000e+00, 0.0000000e+00,\n",
              "        9.9999607e-01, 0.0000000e+00, 0.0000000e+00, 0.0000000e+00,\n",
              "        0.0000000e+00, 0.0000000e+00, 0.0000000e+00, 0.0000000e+00,\n",
              "        0.0000000e+00, 2.9211005e-15, 0.0000000e+00, 0.0000000e+00,\n",
              "        0.0000000e+00, 3.9197412e-06, 0.0000000e+00, 5.3981783e-23]],\n",
              "      dtype=float32)"
            ]
          },
          "metadata": {
            "tags": []
          },
          "execution_count": 81
        }
      ]
    },
    {
      "cell_type": "code",
      "metadata": {
        "id": "CneSWVdsYTJJ"
      },
      "source": [
        ""
      ],
      "execution_count": null,
      "outputs": []
    }
  ]
}